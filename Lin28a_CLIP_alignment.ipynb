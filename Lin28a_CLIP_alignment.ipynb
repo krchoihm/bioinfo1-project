{
 "cells": [
  {
   "cell_type": "code",
   "execution_count": 1,
   "metadata": {},
   "outputs": [
    {
     "name": "stdout",
     "output_type": "stream",
     "text": [
      "/rna/hyemin/bioinfo1/project\n"
     ]
    }
   ],
   "source": [
    "%cd ~/bioinfo1/project/"
   ]
  },
  {
   "cell_type": "code",
   "execution_count": 1,
   "metadata": {},
   "outputs": [
    {
     "name": "stdout",
     "output_type": "stream",
     "text": [
      "^C\n"
     ]
    }
   ],
   "source": [
    "!fastq-dump --gzip SRR458758\n",
    "!fastq-dump --gzip SRR458759\n",
    "!fastq-dump --gzip SRR458760"
   ]
  },
  {
   "cell_type": "code",
   "execution_count": 6,
   "metadata": {},
   "outputs": [
    {
     "name": "stdout",
     "output_type": "stream",
     "text": [
      "Read1 before filtering:\n",
      "total reads: 33548802\n",
      "total bases: 2616806556\n",
      "Q20 bases: 2334372244(89.2069%)\n",
      "Q30 bases: 2126309601(81.2559%)\n",
      "\n",
      "Read1 after filtering:\n",
      "total reads: 26626307\n",
      "total bases: 1130387931\n",
      "Q20 bases: 1097341146(97.0765%)\n",
      "Q30 bases: 1009410106(89.2977%)\n",
      "\n",
      "Filtering result:\n",
      "reads passed filter: 26626307\n",
      "reads failed due to low quality: 1245020\n",
      "reads failed due to too many N: 10088\n",
      "reads failed due to too short: 5667387\n",
      "reads with adapter trimmed: 29718589\n",
      "bases trimmed due to adapters: 1340326961\n",
      "\n",
      "Duplication rate (may be overestimated since this is SE data): 54.0198%\n",
      "\n",
      "JSON report: reports/CLIP-2J3-process.json\n",
      "HTML report: reports/CLIP-2J3-process.html\n",
      "\n",
      "fastp -i rawdata/SRR458759.fastq.gz -q 25 -l 20 -a CTGTAGGCACCATCAAT -j reports/CLIP-2J3-process.json -h reports/CLIP-2J3-process.html -w 10 -o processed/CLIP-2J3.filtered.fq.gz \n",
      "fastp v0.23.4, time used: 50 seconds\n",
      "Read1 before filtering:\n",
      "total reads: 30117545\n",
      "total bases: 2349168510\n",
      "Q20 bases: 2030835960(86.4491%)\n",
      "Q30 bases: 1780745103(75.8032%)\n",
      "\n",
      "Read1 after filtering:\n",
      "total reads: 24745793\n",
      "total bases: 1044409316\n",
      "Q20 bases: 991495572(94.9336%)\n",
      "Q30 bases: 889549020(85.1725%)\n",
      "\n",
      "Filtering result:\n",
      "reads passed filter: 24745793\n",
      "reads failed due to low quality: 1325396\n",
      "reads failed due to too many N: 1201\n",
      "reads failed due to too short: 4045155\n",
      "reads with adapter trimmed: 26927234\n",
      "bases trimmed due to adapters: 1166571233\n",
      "\n",
      "Duplication rate (may be overestimated since this is SE data): 48.1881%\n",
      "\n",
      "JSON report: reports/CLIP-Polyclonal-process.json\n",
      "HTML report: reports/CLIP-Polyclonal-process.html\n",
      "\n",
      "fastp -i rawdata/SRR458760.fastq.gz -q 25 -l 20 -a CTGTAGGCACCATCAAT -j reports/CLIP-Polyclonal-process.json -h reports/CLIP-Polyclonal-process.html -w 10 -o processed/CLIP-Polyclonal.filtered.fq.gz \n",
      "fastp v0.23.4, time used: 45 seconds\n"
     ]
    }
   ],
   "source": [
    "!fastp -i CLIP/rawdata/SRR458758.fastq.gz -q 25 -l 20 -a CTGTAGGCACCATCAAT \\\n",
    "    -j CLIP/reports/CLIP-35L33G-process.json -h CLIP/reports/CLIP-35L33G-process.html -w 10 -o CLIP/processed/CLIP-35L33G.filtered.fq.gz\n",
    "!fastp -i CLIP/rawdata/SRR458759.fastq.gz -q 25 -l 20 -a CTGTAGGCACCATCAAT \\\n",
    "    -j CLIP/reports/CLIP-2J3-process.json -h CLIP/reports/CLIP-2J3-process.html -w 10 -o CLIP/processed/CLIP-2J3.filtered.fq.gz\n",
    "!fastp -i CLIP/rawdata/SRR458760.fastq.gz -q 25 -l 20 -a CTGTAGGCACCATCAAT \\\n",
    "    -j CLIP/reports/CLIP-Polyclonal-process.json -h CLIP/reports/CLIP-Polyclonal-process.html -w 10 -o CLIP/processed/CLIP-Polyclonal.filtered.fq.gz\n",
    "!fastp -i CLIP/rawdata/SRR458753.fastq.gz -q 25 -l 20 -a CTGTAGGCACCATCAAT \\\n",
    "    -j CLIP/reports/RNA-control-process.json -h CLIP/reports/RNA-control-process.html -w 10 -o CLIP/processed/RNA-control.filtered.fq.gz"
   ]
  },
  {
   "cell_type": "code",
   "execution_count": 17,
   "metadata": {},
   "outputs": [],
   "source": [
    "Fa = 'binfo1-datapack1/GRCm39.primary_assembly.genome.fa'\n",
    "with open(Fa, 'r') as fIn, open(Fa[:-len('.fa')] + '.basic.fa', 'w') as fOut:\n",
    "    lines = fIn.readlines()\n",
    "    for line in lines:\n",
    "        if line.startswith('>chr'):\n",
    "            fOut.write(line.split(' ')[0] + '\\n')\n",
    "        elif line.startswith('>'):\n",
    "            break\n",
    "        else:\n",
    "            fOut.write(line)"
   ]
  },
  {
   "cell_type": "markdown",
   "metadata": {},
   "source": [
    "#### Alignment with gsnap"
   ]
  },
  {
   "cell_type": "code",
   "execution_count": 2,
   "metadata": {},
   "outputs": [
    {
     "name": "stdout",
     "output_type": "stream",
     "text": [
      "Sorting chromosomes in chrom order.  To turn off or sort other ways, use the -s flag.\n",
      "Creating files in directory CLIP/reference//GRCm39.basic.index\n",
      "Running \"/rna/modules/local/gmap-2016-11-07/bin/fa_coords\"     -o \"CLIP/reference//GRCm39.basic.index.coords\" -f \"CLIP/reference//GRCm39.basic.index.sources\"\n",
      "Opening file binfo1-datapack1/GRCm39.primary_assembly.genome.basic.fa\n",
      "  Contig chr1: concatenated at chromosome end: chr1:1..195154279 (length = 195154279 nt)\n",
      "  Contig chr2: concatenated at chromosome end: chr2:1..181755017 (length = 181755017 nt)\n",
      "  Contig chr3: concatenated at chromosome end: chr3:1..159745316 (length = 159745316 nt)\n",
      "  Contig chr4: concatenated at chromosome end: chr4:1..156860686 (length = 156860686 nt)\n",
      "  Contig chr5: concatenated at chromosome end: chr5:1..151758149 (length = 151758149 nt)\n",
      "  Contig chr6: concatenated at chromosome end: chr6:1..149588044 (length = 149588044 nt)\n",
      "  Contig chr7: concatenated at chromosome end: chr7:1..144995196 (length = 144995196 nt)\n",
      "  Contig chr8: concatenated at chromosome end: chr8:1..130127694 (length = 130127694 nt)\n",
      "  Contig chr9: concatenated at chromosome end: chr9:1..124359700 (length = 124359700 nt)\n",
      "  Contig chr10: concatenated at chromosome end: chr10:1..130530862 (length = 130530862 nt)\n",
      "  Contig chr11: concatenated at chromosome end: chr11:1..121973369 (length = 121973369 nt)\n",
      "  Contig chr12: concatenated at chromosome end: chr12:1..120092757 (length = 120092757 nt)\n",
      "  Contig chr13: concatenated at chromosome end: chr13:1..120883175 (length = 120883175 nt)\n",
      "  Contig chr14: concatenated at chromosome end: chr14:1..125139656 (length = 125139656 nt)\n",
      "  Contig chr15: concatenated at chromosome end: chr15:1..104073951 (length = 104073951 nt)\n",
      "  Contig chr16: concatenated at chromosome end: chr16:1..98008968 (length = 98008968 nt)\n",
      "  Contig chr17: concatenated at chromosome end: chr17:1..95294699 (length = 95294699 nt)\n",
      "  Contig chr18: concatenated at chromosome end: chr18:1..90720763 (length = 90720763 nt)\n",
      "  Contig chr19: concatenated at chromosome end: chr19:1..61420004 (length = 61420004 nt)\n",
      "  Contig chrX: concatenated at chromosome end: chrX:1..169476592 (length = 169476592 nt)\n",
      "  Contig chrY: concatenated at chromosome end: chrY:1..91455967 (length = 91455967 nt)\n",
      "  Processed short contigs (<1000000 nt): .\n",
      "============================================================\n",
      "Contig mapping information has been written to file CLIP/reference//GRCm39.basic.index.coords.\n",
      "You should look at this file, and edit it if necessary\n",
      "If everything is okay, you should proceed by running\n",
      "    make gmapdb\n",
      "============================================================\n",
      "Running \"/rna/modules/local/gmap-2016-11-07/bin/gmap_process\"  -c \"CLIP/reference//GRCm39.basic.index.coords\" -f \"CLIP/reference//GRCm39.basic.index.sources\" | \"/rna/modules/local/gmap-2016-11-07/bin/gmapindex\"  -d GRCm39.basic.index -D \"CLIP/reference//GRCm39.basic.index\" -A \n",
      "Reading coordinates from file CLIP/reference//GRCm39.basic.index.coords\n",
      "Logging contig chr1 at chr1:1..195154279 in genome GRCm39.basic.index\n",
      " => primary (linear) chromosome\n",
      "Logging contig chr2 at chr2:1..181755017 in genome GRCm39.basic.index\n",
      " => primary (linear) chromosome\n",
      "Logging contig chr3 at chr3:1..159745316 in genome GRCm39.basic.index\n",
      " => primary (linear) chromosome\n",
      "Logging contig chr4 at chr4:1..156860686 in genome GRCm39.basic.index\n",
      " => primary (linear) chromosome\n",
      "Logging contig chr5 at chr5:1..151758149 in genome GRCm39.basic.index\n",
      " => primary (linear) chromosome\n",
      "Logging contig chr6 at chr6:1..149588044 in genome GRCm39.basic.index\n",
      " => primary (linear) chromosome\n",
      "Logging contig chr7 at chr7:1..144995196 in genome GRCm39.basic.index\n",
      " => primary (linear) chromosome\n",
      "Logging contig chr8 at chr8:1..130127694 in genome GRCm39.basic.index\n",
      " => primary (linear) chromosome\n",
      "Logging contig chr9 at chr9:1..124359700 in genome GRCm39.basic.index\n",
      " => primary (linear) chromosome\n",
      "Logging contig chr10 at chr10:1..130530862 in genome GRCm39.basic.index\n",
      " => primary (linear) chromosome\n",
      "Logging contig chr11 at chr11:1..121973369 in genome GRCm39.basic.index\n",
      " => primary (linear) chromosome\n",
      "Logging contig chr12 at chr12:1..120092757 in genome GRCm39.basic.index\n",
      " => primary (linear) chromosome\n",
      "Logging contig chr13 at chr13:1..120883175 in genome GRCm39.basic.index\n",
      " => primary (linear) chromosome\n",
      "Logging contig chr14 at chr14:1..125139656 in genome GRCm39.basic.index\n",
      " => primary (linear) chromosome\n",
      "Logging contig chr15 at chr15:1..104073951 in genome GRCm39.basic.index\n",
      " => primary (linear) chromosome\n",
      "Logging contig chr16 at chr16:1..98008968 in genome GRCm39.basic.index\n",
      " => primary (linear) chromosome\n",
      "Logging contig chr17 at chr17:1..95294699 in genome GRCm39.basic.index\n",
      " => primary (linear) chromosome\n",
      "Logging contig chr18 at chr18:1..90720763 in genome GRCm39.basic.index\n",
      " => primary (linear) chromosome\n",
      "Logging contig chr19 at chr19:1..61420004 in genome GRCm39.basic.index\n",
      " => primary (linear) chromosome\n",
      "Logging contig chrX at chrX:1..169476592 in genome GRCm39.basic.index\n",
      " => primary (linear) chromosome\n",
      "Logging contig chrY at chrY:1..91455967 in genome GRCm39.basic.index\n",
      " => primary (linear) chromosome\n",
      "Logging contig chrM at chrM:1..16299 in genome GRCm39.basic.index\n",
      " => primary (linear) chromosome\n",
      "Total genomic length = 2723431143 bp\n",
      "Have a total of 22 chromosomes\n",
      "Writing chromosome file CLIP/reference//GRCm39.basic.index/GRCm39.basic.index.chromosome\n",
      "Chromosome chr1 has universal coordinates 1..195154279\n",
      "Chromosome chr2 has universal coordinates 195154280..376909296\n",
      "Chromosome chr3 has universal coordinates 376909297..536654612\n",
      "Chromosome chr4 has universal coordinates 536654613..693515298\n",
      "Chromosome chr5 has universal coordinates 693515299..845273447\n",
      "Chromosome chr6 has universal coordinates 845273448..994861491\n",
      "Chromosome chr7 has universal coordinates 994861492..1139856687\n",
      "Chromosome chr8 has universal coordinates 1139856688..1269984381\n",
      "Chromosome chr9 has universal coordinates 1269984382..1394344081\n",
      "Chromosome chr10 has universal coordinates 1394344082..1524874943\n",
      "Chromosome chr11 has universal coordinates 1524874944..1646848312\n",
      "Chromosome chr12 has universal coordinates 1646848313..1766941069\n",
      "Chromosome chr13 has universal coordinates 1766941070..1887824244\n",
      "Chromosome chr14 has universal coordinates 1887824245..2012963900\n",
      "Chromosome chr15 has universal coordinates 2012963901..2117037851\n",
      "Chromosome chr16 has universal coordinates 2117037852..2215046819\n",
      "Chromosome chr17 has universal coordinates 2215046820..2310341518\n",
      "Chromosome chr18 has universal coordinates 2310341519..2401062281\n",
      "Chromosome chr19 has universal coordinates 2401062282..2462482285\n",
      "Chromosome chrX has universal coordinates 2462482286..2631958877\n",
      "Chromosome chrY has universal coordinates 2631958878..2723414844\n",
      "Chromosome chrM has universal coordinates 2723414845..2723431143\n",
      "Writing chromosome IIT file CLIP/reference//GRCm39.basic.index/GRCm39.basic.index.chromosome.iit\n",
      "Writing IIT file header information...coordinates require 4 bytes each...done\n",
      "Processing null division/chromosome...sorting...writing...done (22 intervals)\n",
      "Writing IIT file footer information...done\n",
      "Writing IIT file header information...coordinates require 4 bytes each...done\n",
      "Processing null division/chromosome...sorting...writing...done (22 intervals)\n",
      "Writing IIT file footer information...done\n",
      "No alternate scaffolds observed\n",
      "Running \"/rna/modules/local/gmap-2016-11-07/bin/gmap_process\"  -c \"CLIP/reference//GRCm39.basic.index.coords\" -f \"CLIP/reference//GRCm39.basic.index.sources\" | \"/rna/modules/local/gmap-2016-11-07/bin/gmapindex\"  -d GRCm39.basic.index -F \"CLIP/reference//GRCm39.basic.index\" -D \"CLIP/reference//GRCm39.basic.index\" -G\n",
      "Genome length is 2723431143 nt\n",
      "Trying to allocate 255321672*4 bytes of memory...succeeded.  Building genome in memory.\n",
      "Reading coordinates from file CLIP/reference//GRCm39.basic.index.coords\n",
      "Writing contig chr1 to universal coordinates 1..195154279\n",
      "Writing contig chr2 to universal coordinates 195154280..376909296\n",
      "Writing contig chr3 to universal coordinates 376909297..536654612\n",
      "Writing contig chr4 to universal coordinates 536654613..693515298\n",
      "Writing contig chr5 to universal coordinates 693515299..845273447\n",
      "Writing contig chr6 to universal coordinates 845273448..994861491\n",
      "Writing contig chr7 to universal coordinates 994861492..1139856687\n",
      "Writing contig chr8 to universal coordinates 1139856688..1269984381\n",
      "Writing contig chr9 to universal coordinates 1269984382..1394344081\n",
      "Writing contig chr10 to universal coordinates 1394344082..1524874943\n",
      "Writing contig chr11 to universal coordinates 1524874944..1646848312\n",
      "Writing contig chr12 to universal coordinates 1646848313..1766941069\n",
      "Writing contig chr13 to universal coordinates 1766941070..1887824244\n",
      "Writing contig chr14 to universal coordinates 1887824245..2012963900\n",
      "Writing contig chr15 to universal coordinates 2012963901..2117037851\n",
      "Writing contig chr16 to universal coordinates 2117037852..2215046819\n",
      "Writing contig chr17 to universal coordinates 2215046820..2310341518\n",
      "Writing contig chr18 to universal coordinates 2310341519..2401062281\n",
      "Writing contig chr19 to universal coordinates 2401062282..2462482285\n",
      "Writing contig chrX to universal coordinates 2462482286..2631958877\n",
      "Writing contig chrY to universal coordinates 2631958878..2723414844\n",
      "Writing contig chrM to universal coordinates 2723414845..2723431143\n",
      "A total of 0 non-ACGTNX characters were seen in the genome.\n",
      "Running cat \"CLIP/reference//GRCm39.basic.index/GRCm39.basic.index.genomecomp\" | \"/rna/modules/local/gmap-2016-11-07/bin/gmapindex\" -d GRCm39.basic.index -U > \"CLIP/reference//GRCm39.basic.index/GRCm39.basic.index.genomebits128\"\n",
      "Running cat \"CLIP/reference//GRCm39.basic.index/GRCm39.basic.index.genomecomp\" | \"/rna/modules/local/gmap-2016-11-07/bin/gmapindex\" -k 12 -q 3  -d GRCm39.basic.index -F \"CLIP/reference//GRCm39.basic.index\" -D \"CLIP/reference//GRCm39.basic.index\" -N\n",
      "Counting positions in genome GRCm39.basic.index (12 bp every 3 bp), position 0\n",
      "Counting positions in genome GRCm39.basic.index (12 bp every 3 bp), position 100,000,000\n",
      "Counting positions in genome GRCm39.basic.index (12 bp every 3 bp), position 200,000,000\n",
      "Counting positions in genome GRCm39.basic.index (12 bp every 3 bp), position 300,000,000\n",
      "Counting positions in genome GRCm39.basic.index (12 bp every 3 bp), position 400,000,000\n",
      "Counting positions in genome GRCm39.basic.index (12 bp every 3 bp), position 500,000,000\n",
      "Counting positions in genome GRCm39.basic.index (12 bp every 3 bp), position 600,000,000\n",
      "Counting positions in genome GRCm39.basic.index (12 bp every 3 bp), position 700,000,000\n",
      "Counting positions in genome GRCm39.basic.index (12 bp every 3 bp), position 800,000,000\n",
      "Counting positions in genome GRCm39.basic.index (12 bp every 3 bp), position 900,000,000\n",
      "Counting positions in genome GRCm39.basic.index (12 bp every 3 bp), position 1,000,000,000\n",
      "Counting positions in genome GRCm39.basic.index (12 bp every 3 bp), position 1,100,000,000\n",
      "Counting positions in genome GRCm39.basic.index (12 bp every 3 bp), position 1,200,000,000\n",
      "Counting positions in genome GRCm39.basic.index (12 bp every 3 bp), position 1,300,000,000\n",
      "Counting positions in genome GRCm39.basic.index (12 bp every 3 bp), position 1,400,000,000\n",
      "Counting positions in genome GRCm39.basic.index (12 bp every 3 bp), position 1,500,000,000\n",
      "Counting positions in genome GRCm39.basic.index (12 bp every 3 bp), position 1,600,000,000\n",
      "Counting positions in genome GRCm39.basic.index (12 bp every 3 bp), position 1,700,000,000\n",
      "Counting positions in genome GRCm39.basic.index (12 bp every 3 bp), position 1,800,000,000\n",
      "Counting positions in genome GRCm39.basic.index (12 bp every 3 bp), position 1,900,000,000\n",
      "Counting positions in genome GRCm39.basic.index (12 bp every 3 bp), position 2,000,000,000\n",
      "Counting positions in genome GRCm39.basic.index (12 bp every 3 bp), position 2,100,000,000\n",
      "Counting positions in genome GRCm39.basic.index (12 bp every 3 bp), position 2,200,000,000\n",
      "Counting positions in genome GRCm39.basic.index (12 bp every 3 bp), position 2,300,000,000\n",
      "Counting positions in genome GRCm39.basic.index (12 bp every 3 bp), position 2,400,000,000\n",
      "Counting positions in genome GRCm39.basic.index (12 bp every 3 bp), position 2,500,000,000\n",
      "Counting positions in genome GRCm39.basic.index (12 bp every 3 bp), position 2,600,000,000\n",
      "Counting positions in genome GRCm39.basic.index (12 bp every 3 bp), position 2,700,000,000\n",
      "Number of offsets: 883311814 => pages file not required\n",
      "Running \"/rna/modules/local/gmap-2016-11-07/bin/gmapindex\" -k 12 -q 3  -d GRCm39.basic.index -F \"CLIP/reference//GRCm39.basic.index\" -D \"CLIP/reference//GRCm39.basic.index\" -O  \"CLIP/reference//GRCm39.basic.index/GRCm39.basic.index.genomecomp\"\n",
      "Offset compression types: bitpack64\n",
      "Allocating 262144*1 bytes for packsizes\n",
      "Allocating 262144*8 bytes for bitpacks\n",
      "Indexing offsets of oligomers in genome GRCm39.basic.index (12 bp every 3 bp), position 0\n",
      "Indexing offsets of oligomers in genome GRCm39.basic.index (12 bp every 3 bp), position 100,000,000\n",
      "Indexing offsets of oligomers in genome GRCm39.basic.index (12 bp every 3 bp), position 200,000,000\n",
      "Indexing offsets of oligomers in genome GRCm39.basic.index (12 bp every 3 bp), position 300,000,000\n",
      "Indexing offsets of oligomers in genome GRCm39.basic.index (12 bp every 3 bp), position 400,000,000\n",
      "Indexing offsets of oligomers in genome GRCm39.basic.index (12 bp every 3 bp), position 500,000,000\n",
      "Indexing offsets of oligomers in genome GRCm39.basic.index (12 bp every 3 bp), position 600,000,000\n",
      "Indexing offsets of oligomers in genome GRCm39.basic.index (12 bp every 3 bp), position 700,000,000\n",
      "Indexing offsets of oligomers in genome GRCm39.basic.index (12 bp every 3 bp), position 800,000,000\n",
      "Indexing offsets of oligomers in genome GRCm39.basic.index (12 bp every 3 bp), position 900,000,000\n",
      "Indexing offsets of oligomers in genome GRCm39.basic.index (12 bp every 3 bp), position 1,000,000,000\n",
      "Indexing offsets of oligomers in genome GRCm39.basic.index (12 bp every 3 bp), position 1,100,000,000\n",
      "Indexing offsets of oligomers in genome GRCm39.basic.index (12 bp every 3 bp), position 1,200,000,000\n",
      "Indexing offsets of oligomers in genome GRCm39.basic.index (12 bp every 3 bp), position 1,300,000,000\n",
      "Indexing offsets of oligomers in genome GRCm39.basic.index (12 bp every 3 bp), position 1,400,000,000\n",
      "Indexing offsets of oligomers in genome GRCm39.basic.index (12 bp every 3 bp), position 1,500,000,000\n",
      "Indexing offsets of oligomers in genome GRCm39.basic.index (12 bp every 3 bp), position 1,600,000,000\n",
      "Indexing offsets of oligomers in genome GRCm39.basic.index (12 bp every 3 bp), position 1,700,000,000\n",
      "Indexing offsets of oligomers in genome GRCm39.basic.index (12 bp every 3 bp), position 1,800,000,000\n",
      "Indexing offsets of oligomers in genome GRCm39.basic.index (12 bp every 3 bp), position 1,900,000,000\n",
      "Indexing offsets of oligomers in genome GRCm39.basic.index (12 bp every 3 bp), position 2,000,000,000\n",
      "Indexing offsets of oligomers in genome GRCm39.basic.index (12 bp every 3 bp), position 2,100,000,000\n",
      "Indexing offsets of oligomers in genome GRCm39.basic.index (12 bp every 3 bp), position 2,200,000,000\n",
      "Indexing offsets of oligomers in genome GRCm39.basic.index (12 bp every 3 bp), position 2,300,000,000\n",
      "Indexing offsets of oligomers in genome GRCm39.basic.index (12 bp every 3 bp), position 2,400,000,000\n",
      "Indexing offsets of oligomers in genome GRCm39.basic.index (12 bp every 3 bp), position 2,500,000,000\n",
      "Indexing offsets of oligomers in genome GRCm39.basic.index (12 bp every 3 bp), position 2,600,000,000\n",
      "Indexing offsets of oligomers in genome GRCm39.basic.index (12 bp every 3 bp), position 2,700,000,000\n",
      "Writing 16777217 offsets compressed via bitpack64...done\n",
      "Running \"/rna/modules/local/gmap-2016-11-07/bin/gmapindex\" -k 12 -q 3  -d GRCm39.basic.index -F \"CLIP/reference//GRCm39.basic.index\" -D \"CLIP/reference//GRCm39.basic.index\" -P \"CLIP/reference//GRCm39.basic.index/GRCm39.basic.index.genomecomp\"\n",
      "Looking for index files in directory CLIP/reference//GRCm39.basic.index\n",
      "  Pointers file is GRCm39.basic.index.ref123offsets64meta\n",
      "  Offsets file is GRCm39.basic.index.ref123offsets64strm\n",
      "  Positions file is GRCm39.basic.index.ref123positions\n",
      "Expanding offsetsstrm into counters...done\n",
      "Allocating 18780832 bytes for counterstrm\n",
      "Trying to allocate 883311814*4 bytes of memory for positions...succeeded.  Building positions in memory.\n",
      "Indexing positions of oligomers in genome GRCm39.basic.index (12 bp every 3 bp), position 0\n",
      "Indexing positions of oligomers in genome GRCm39.basic.index (12 bp every 3 bp), position 100,000,000\n",
      "Indexing positions of oligomers in genome GRCm39.basic.index (12 bp every 3 bp), position 200,000,000\n",
      "Indexing positions of oligomers in genome GRCm39.basic.index (12 bp every 3 bp), position 300,000,000\n",
      "Indexing positions of oligomers in genome GRCm39.basic.index (12 bp every 3 bp), position 400,000,000\n",
      "Indexing positions of oligomers in genome GRCm39.basic.index (12 bp every 3 bp), position 500,000,000\n",
      "Indexing positions of oligomers in genome GRCm39.basic.index (12 bp every 3 bp), position 600,000,000\n",
      "Indexing positions of oligomers in genome GRCm39.basic.index (12 bp every 3 bp), position 700,000,000\n",
      "Indexing positions of oligomers in genome GRCm39.basic.index (12 bp every 3 bp), position 800,000,000\n",
      "Indexing positions of oligomers in genome GRCm39.basic.index (12 bp every 3 bp), position 900,000,000\n",
      "Indexing positions of oligomers in genome GRCm39.basic.index (12 bp every 3 bp), position 1,000,000,000\n",
      "Indexing positions of oligomers in genome GRCm39.basic.index (12 bp every 3 bp), position 1,100,000,000\n",
      "Indexing positions of oligomers in genome GRCm39.basic.index (12 bp every 3 bp), position 1,200,000,000\n",
      "Indexing positions of oligomers in genome GRCm39.basic.index (12 bp every 3 bp), position 1,300,000,000\n",
      "Indexing positions of oligomers in genome GRCm39.basic.index (12 bp every 3 bp), position 1,400,000,000\n",
      "Indexing positions of oligomers in genome GRCm39.basic.index (12 bp every 3 bp), position 1,500,000,000\n",
      "Indexing positions of oligomers in genome GRCm39.basic.index (12 bp every 3 bp), position 1,600,000,000\n",
      "Indexing positions of oligomers in genome GRCm39.basic.index (12 bp every 3 bp), position 1,700,000,000\n",
      "Indexing positions of oligomers in genome GRCm39.basic.index (12 bp every 3 bp), position 1,800,000,000\n",
      "Indexing positions of oligomers in genome GRCm39.basic.index (12 bp every 3 bp), position 1,900,000,000\n",
      "Indexing positions of oligomers in genome GRCm39.basic.index (12 bp every 3 bp), position 2,000,000,000\n",
      "Indexing positions of oligomers in genome GRCm39.basic.index (12 bp every 3 bp), position 2,100,000,000\n",
      "Indexing positions of oligomers in genome GRCm39.basic.index (12 bp every 3 bp), position 2,200,000,000\n",
      "Indexing positions of oligomers in genome GRCm39.basic.index (12 bp every 3 bp), position 2,300,000,000\n",
      "Indexing positions of oligomers in genome GRCm39.basic.index (12 bp every 3 bp), position 2,400,000,000\n",
      "Indexing positions of oligomers in genome GRCm39.basic.index (12 bp every 3 bp), position 2,500,000,000\n",
      "Indexing positions of oligomers in genome GRCm39.basic.index (12 bp every 3 bp), position 2,600,000,000\n",
      "Indexing positions of oligomers in genome GRCm39.basic.index (12 bp every 3 bp), position 2,700,000,000\n",
      "Writing 883311814 genomic positions to file CLIP/reference//GRCm39.basic.index/GRCm39.basic.index.ref123positions ...\n",
      "done\n",
      "Running \"/rna/modules/local/gmap-2016-11-07/bin/gmapindex\" -d GRCm39.basic.index -F \"CLIP/reference//GRCm39.basic.index\" -D \"CLIP/reference//GRCm39.basic.index\" -S\n",
      "Genome length is 2723431143\n",
      "Building suffix array\n",
      "SACA_K called with n = 2723431144, K = 5, level 0\n",
      "SACA_K called with n = 759872014, K = 0, level 1\n",
      "SACA_K called with n = 233906952, K = 0, level 2\n",
      "SACA_K called with n = 75390634, K = 0, level 3\n",
      "SACA_K called with n = 24469968, K = 0, level 4\n",
      "SACA_K called with n = 7915906, K = 0, level 5\n",
      "SACA_K called with n = 2559358, K = 0, level 6\n",
      "SACA_K called with n = 835758, K = 0, level 7\n",
      "SACA_K called with n = 272654, K = 0, level 8\n",
      "SACA_K called with n = 89211, K = 0, level 9\n",
      "SACA_K called with n = 29066, K = 0, level 10\n",
      "^C\n"
     ]
    }
   ],
   "source": [
    "!/rna/modules/local/gmap-2016-11-07/bin/gmap_build -D CLIP/reference/ -d GRCm39.basic.index -k 12 binfo1-datapack1/GRCm39.primary_assembly.genome.basic.fa"
   ]
  },
  {
   "cell_type": "code",
   "execution_count": null,
   "metadata": {},
   "outputs": [],
   "source": [
    "!cat binfo1-datapack1/gencode.gtf | gtf_splicesites > CLIP/reference/gencode.splicesites\n",
    "!cat binfo1-datapack1/gencode.gtf | gtf_introns > CLIP/reference/gencode.introns"
   ]
  },
  {
   "cell_type": "code",
   "execution_count": null,
   "metadata": {},
   "outputs": [],
   "source": [
    "!cat CLIP/reference/gencode.splicesites | iit_store -o CLIP/reference/gencode.splicesites.iit\n",
    "!cat CLIP/reference/gencode.introns | iit_store -o CLIP/reference/gencode.introns.iit"
   ]
  },
  {
   "cell_type": "code",
   "execution_count": null,
   "metadata": {},
   "outputs": [],
   "source": [
    "!zcat CLIP/processed/CLIP-35L33G.filtered.fq.gz | \\\n",
    "    nice -n 10 gsnap -D CLIP/reference/ -d GRCm39.basic.index -m 0.1 -k 12 -N 1 -s CLIP/reference/gencode.splicesites.iit -t 128 -A sam -o CLIP/alignments/CLIP-35L33G.sam\n",
    "!samtools view -Sb CLIP/alignments/CLIP-35L33G.sam | samtools sort -@ 10 -o CLIP/alignments/CLIP-35L33G.bam\n",
    "!samtools index CLIP/alignments/CLIP-35L33G.bam"
   ]
  },
  {
   "cell_type": "code",
   "execution_count": 10,
   "metadata": {},
   "outputs": [
    {
     "name": "stdout",
     "output_type": "stream",
     "text": [
      "zsh:1: command not found: gsnap\n",
      "[main_samview] fail to read the header from \"-\".\n",
      "samtools sort: failed to read header from \"-\"\n",
      "[E::hts_open_format] Failed to open file \"CLIP/alignments/CLIP-2J3.bam\" : No such file or directory\n",
      "samtools index: failed to open \"CLIP/alignments/CLIP-2J3.bam\": No such file or directory\n"
     ]
    }
   ],
   "source": [
    "!zcat CLIP/processed/CLIP-2J3.filtered.fq.gz | \\\n",
    "    nice -n 10 gsnap -D CLIP/reference/ -d GRCm39.basic.index -m 0.1 -k 12 -N 1 -s CLIP/reference/gencode.splicesites.iit -t 128 -A sam -o CLIP/alignments/CLIP-2J3.sam\n",
    "!samtools view -Sb CLIP/alignments/CLIP-2J3.sam | samtools sort -@ 10 -o CLIP/alignments/CLIP-2J3.bam\n",
    "!samtools index CLIP/alignments/CLIP-2J3.bam"
   ]
  },
  {
   "cell_type": "code",
   "execution_count": null,
   "metadata": {},
   "outputs": [],
   "source": [
    "!zcat CLIP/processed/CLIP-Polyclonal.filtered.fq.gz | \\\n",
    "    nice -n 10 gsnap -D CLIP/reference/ -d GRCm39.basic.index -m 0.1 -k 12 -N 1 -s CLIP/reference/gencode.splicesites.iit -t 128 -A sam -o CLIP/alignments/CLIP-Polyclonal.sam\n",
    "!samtools view -Sb CLIP/alignments/CLIP-Polyclonal.sam | samtools sort -@ 10 -o CLIP/alignments/CLIP-Polyclonal.bam\n",
    "!samtools index CLIP/alignments/CLIP-Polyclonal.bam"
   ]
  },
  {
   "cell_type": "code",
   "execution_count": null,
   "metadata": {},
   "outputs": [],
   "source": [
    "!zcat CLIP/processed/RNA-control.filtered.fq.gz | \\\n",
    "    nice -n 10 gsnap -D CLIP/reference/ -d GRCm39.basic.index -m 0.1 -k 12 -N 1 -s CLIP/reference/gencode.splicesites.iit -t 128 -A sam -o CLIP/alignments/RNA-control.sam\n",
    "!samtools view -Sb CLIP/alignments/RNA-control.sam | samtools sort -@ 10 -o CLIP/alignments/RNA-control.bam\n",
    "!samtools index CLIP/alignments/RNA-control.bam"
   ]
  },
  {
   "cell_type": "code",
   "execution_count": null,
   "metadata": {},
   "outputs": [],
   "source": [
    "!samtools view -F 3844 -b CLIP/alignments/CLIP-35L33G.bam > CLIP/alignments/CLIP-35L33G.filtered.bam\n",
    "!samtools view -F 3844 -b CLIP/alignments/CLIP-2J3.bam > CLIP/alignments/CLIP-2J3.filtered.bam\n",
    "!samtools view -F 3844 -b CLIP/alignments/CLIP-Polyclonal.bam > CLIP/alignments/CLIP-Polyclonal.filtered.bam\n",
    "!samtools view -F 3844 -b CLIP/alignments/RNA-control.bam > CLIP/alignments/RNA-control.filtered.bam\n",
    "# mapped, primary alignment, quality checked, no duplicate or supplementary reads"
   ]
  },
  {
   "cell_type": "markdown",
   "metadata": {},
   "source": [
    "#### Alignment with STAR"
   ]
  },
  {
   "cell_type": "code",
   "execution_count": null,
   "metadata": {},
   "outputs": [],
   "source": [
    "!nice -n 10 STAR --runThreadN 128 --runMode genomeGenerate --genomeDir CLIP/reference/star_index_78nt \\\n",
    "    --genomeFastaFiles binfo1-datapack1/GRCm39.primary_assembly.genome.basic.fa --sjdbGTFfile binfo1-datapack1/gencode.gtf --sjdbOverhang 77"
   ]
  },
  {
   "cell_type": "code",
   "execution_count": null,
   "metadata": {},
   "outputs": [],
   "source": [
    "!nice -n 10 STAR --runThreadN 128 --runMode genomeGenerate --genomeDir CLIP/reference/star_index_54nt \\\n",
    "    --genomeFastaFiles binfo1-datapack1/GRCm39.primary_assembly.genome.basic.fa --sjdbGTFfile binfo1-datapack1/gencode.gtf --sjdbOverhang 53"
   ]
  },
  {
   "cell_type": "code",
   "execution_count": null,
   "metadata": {},
   "outputs": [],
   "source": [
    "!nice -n 10 STAR --runThreadN 128 --genomeDir CLIP/reference/star_index_78nt --readFilesIn CLIP/processed/CLIP-35L33G.filtered.fq.gz --readFilesCommand zcat \\\n",
    "    --outFilterMismatchNoverLmax 0.1 --outSAMprimaryFlag AllBestScore --outSAMtype BAM Unsorted --outFileNamePrefix CLIP/alignments/star/CLIP-35L33G\n",
    "!nice -n 10 STAR --runThreadN 128 --genomeDir CLIP/reference/star_index_78nt --readFilesIn CLIP/processed/CLIP-2J3.filtered.fq.gz --readFilesCommand zcat \\\n",
    "    --outFilterMismatchNoverLmax 0.1 --outSAMprimaryFlag AllBestScore --outSAMtype BAM Unsorted --outFileNamePrefix CLIP/alignments/star/CLIP-2J3\n",
    "!nice -n 10 STAR --runThreadN 128 --genomeDir CLIP/reference/star_index_78nt --readFilesIn CLIP/processed/CLIP-Polyclonal.filtered.fq.gz --readFilesCommand zcat \\\n",
    "    --outFilterMismatchNoverLmax 0.1 --outSAMprimaryFlag AllBestScore --outSAMtype BAM Unsorted --outFileNamePrefix CLIP/alignments/star/CLIP-Polyclonal"
   ]
  },
  {
   "cell_type": "code",
   "execution_count": null,
   "metadata": {},
   "outputs": [],
   "source": [
    "!nice -n 10 STAR --runThreadN 128 --genomeDir CLIP/reference/star_index_54nt --readFilesIn CLIP/processed/RNA-control.filtered.fq.gz --readFilesCommand zcat \\\n",
    "    --outFilterMismatchNoverLmax 0.1 --outSAMprimaryFlag AllBestScore --outSAMtype BAM Unsorted --outFileNamePrefix CLIP/alignments/star/RNA-control"
   ]
  },
  {
   "cell_type": "code",
   "execution_count": null,
   "metadata": {},
   "outputs": [],
   "source": [
    "!samtools sort -o CLIP/alignments/star/CLIP-35L33G.bam -@ 20 CLIP/alignments/star/CLIP-35L33GAligned.out.bam\n",
    "!samtools sort -o CLIP/alignments/star/CLIP-2J3.bam -@ 20 CLIP/alignments/star/CLIP-2J3Aligned.out.bam\n",
    "!samtools sort -o CLIP/alignments/star/CLIP-Polyclonal.bam -@ 20 CLIP/alignments/star/CLIP-PolyclonalAligned.out.bam\n",
    "!samtools sort -o CLIP/alignments/star/RNA-control.bam -@ 20 CLIP/alignments/star/RNA-controlAligned.out.bam"
   ]
  },
  {
   "cell_type": "code",
   "execution_count": null,
   "metadata": {},
   "outputs": [],
   "source": [
    "!samtools index CLIP/alignments/star/CLIP-35L33G.bam\n",
    "!samtools index CLIP/alignments/star/CLIP-2J3.bam\n",
    "!samtools index CLIP/alignments/star/CLIP-Polyclonal.bam\n",
    "!samtools index CLIP/alignments/star/RNA-control.bam"
   ]
  },
  {
   "cell_type": "code",
   "execution_count": 2,
   "metadata": {},
   "outputs": [],
   "source": [
    "!samtools view -F 3844 -b CLIP/alignments/star/CLIP-35L33G.bam > CLIP/alignments/star/CLIP-35L33G.filtered.bam\n",
    "!samtools view -F 3844 -b CLIP/alignments/star/CLIP-2J3.bam > CLIP/alignments/star/CLIP-2J3.filtered.bam\n",
    "!samtools view -F 3844 -b CLIP/alignments/star/CLIP-Polyclonal.bam > CLIP/alignments/star/CLIP-Polyclonal.filtered.bam\n",
    "!samtools view -F 3844 -b CLIP/alignments/star/RNA-control.bam > CLIP/alignments/star/RNA-control.filtered.bam\n",
    "# mapped, primary alignment, quality checked, no duplicate or supplementary reads"
   ]
  },
  {
   "cell_type": "code",
   "execution_count": null,
   "metadata": {},
   "outputs": [],
   "source": []
  }
 ],
 "metadata": {
  "kernelspec": {
   "display_name": "project1",
   "language": "python",
   "name": "python3"
  },
  "language_info": {
   "codemirror_mode": {
    "name": "ipython",
    "version": 3
   },
   "file_extension": ".py",
   "mimetype": "text/x-python",
   "name": "python",
   "nbconvert_exporter": "python",
   "pygments_lexer": "ipython3",
   "version": "3.10.8"
  }
 },
 "nbformat": 4,
 "nbformat_minor": 2
}
