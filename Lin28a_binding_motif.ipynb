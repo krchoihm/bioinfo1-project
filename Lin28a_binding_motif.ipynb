{
 "cells": [
  {
   "cell_type": "code",
   "execution_count": 1,
   "metadata": {},
   "outputs": [
    {
     "name": "stdout",
     "output_type": "stream",
     "text": [
      "/rna/hyemin/bioinfo1/project/binfo1-work\n"
     ]
    }
   ],
   "source": [
    "%cd ~/bioinfo1/project/binfo1-work/"
   ]
  },
  {
   "cell_type": "markdown",
   "metadata": {},
   "source": [
    "##### Base positions with cut-offs of 0.8 for crosslinking-induced reverse-transcription error score (CRES) and 50 for read depth."
   ]
  },
  {
   "cell_type": "code",
   "execution_count": 2,
   "metadata": {},
   "outputs": [
    {
     "name": "stdout",
     "output_type": "stream",
     "text": [
      "[mpileup] 1 samples in 1 input files\n",
      "11450468 motif/CLIP-35L33G-ge50-plus.pileup\n"
     ]
    }
   ],
   "source": [
    "!samtools mpileup --ff 3860 CLIP-35L33G.bam | \\\n",
    "    awk '$4 >= 50 {print $0}'> motif/CLIP-35L33G-ge50-plus.pileup\n",
    "!wc -l motif/CLIP-35L33G-ge50-plus.pileup # filter out QC failed, unmapped, secondary, supplementary, and duplicate reads # plus strand"
   ]
  },
  {
   "cell_type": "code",
   "execution_count": 3,
   "metadata": {},
   "outputs": [
    {
     "name": "stdout",
     "output_type": "stream",
     "text": [
      "[mpileup] 1 samples in 1 input files\n",
      "13051391 motif/CLIP-35L33G-ge50-minus.pileup\n"
     ]
    }
   ],
   "source": [
    "!samtools mpileup --ff 3844 --rf 16 CLIP-35L33G.bam | \\\n",
    "    awk '$4 >= 50 {print $0}'> motif/CLIP-35L33G-ge50-minus.pileup\n",
    "!wc -l motif/CLIP-35L33G-ge50-minus.pileup # filter out QC failed, unmapped, secondary, supplementary, and duplicate reads # minus strand"
   ]
  },
  {
   "cell_type": "code",
   "execution_count": 8,
   "metadata": {},
   "outputs": [],
   "source": [
    "import numpy as np\n",
    "import pandas as pd\n",
    "import matplotlib.pyplot as plt\n",
    "import re"
   ]
  },
  {
   "cell_type": "code",
   "execution_count": 9,
   "metadata": {},
   "outputs": [],
   "source": [
    "lNames = ['chrom', 'pos', '_ref', 'count', 'basereads', 'quals']\n",
    "toremove = re.compile('[<>$]|\\^.') # [문자들] : 문자들 중 하나와 매치"
   ]
  },
  {
   "cell_type": "code",
   "execution_count": 10,
   "metadata": {},
   "outputs": [],
   "source": [
    "lFiles = ['motif/CLIP-35L33G-ge50-plus.pileup', 'motif/CLIP-35L33G-ge50-minus.pileup']"
   ]
  },
  {
   "cell_type": "code",
   "execution_count": 14,
   "metadata": {},
   "outputs": [],
   "source": [
    "for file in lFiles:\n",
    "    dfPileup = pd.read_csv(file, sep='\\t', names=lNames)\n",
    "    dfPileup['matchesNdel'] = dfPileup['basereads'].apply(lambda x: toremove.sub('', x)) # remove special characters (<>$^.) from basereads\n",
    "    dfPileup['AGCTD'] = dfPileup['matchesNdel'].apply(lambda x: np.array((x.count('A') + x.count('a'), \\\n",
    "                                                                      x.count('G') + x.count('g'), \\\n",
    "                                                                      x.count('C') + x.count('c'), \\\n",
    "                                                                      x.count('T') + x.count('t'), \\\n",
    "                                                                      x.count('*') + x.count('#'))))\n",
    "    dfPileup['entropy'] = dfPileup['AGCTD'].apply(lambda x: -sum([i*np.log2(i) for i in x/sum(x) if i > 0])).replace(-0.0, 0.0)\n",
    "    dfPileup['start'] = dfPileup['pos'] - 1\n",
    "    dfPileup[dfPileup['entropy'] >= 0.8][['chrom', 'start', 'pos', 'entropy']].to_csv(file[:-len('.pileup')] + '.entropy.BedGraph', sep='\\t', index=False, header=False)"
   ]
  },
  {
   "cell_type": "markdown",
   "metadata": {},
   "source": [
    "##### Neighboring sequences of the high-mutated bases in reference genome (mm39)."
   ]
  },
  {
   "cell_type": "code",
   "execution_count": 10,
   "metadata": {},
   "outputs": [
    {
     "name": "stdout",
     "output_type": "stream",
     "text": [
      "--2024-05-24 23:48:06--  https://ftp.ebi.ac.uk/pub/databases/gencode/Gencode_mouse/release_M35/GRCm39.primary_assembly.genome.fa.gz\n",
      "Resolving ftp.ebi.ac.uk (ftp.ebi.ac.uk)... 193.62.193.165\n",
      "Connecting to ftp.ebi.ac.uk (ftp.ebi.ac.uk)|193.62.193.165|:443... connected.\n",
      "HTTP request sent, awaiting response... 200 OK\n",
      "Length: 773873008 (738M) [application/x-gzip]\n",
      "Saving to: ‘/rna/hyemin/bioinfo1/project/binfo1-datapack1/GRCm39.primary_assembly.genome.fa.gz’\n",
      "\n",
      "GRCm39.primary_asse 100%[===================>] 738.02M   194KB/s    in 60m 44s \n",
      "\n",
      "2024-05-25 00:48:51 (207 KB/s) - ‘/rna/hyemin/bioinfo1/project/binfo1-datapack1/GRCm39.primary_assembly.genome.fa.gz’ saved [773873008/773873008]\n",
      "\n"
     ]
    }
   ],
   "source": [
    "!wget -P ~/bioinfo1/project/binfo1-datapack1 https://ftp.ebi.ac.uk/pub/databases/gencode/Gencode_mouse/release_M35/GRCm39.primary_assembly.genome.fa.gz\n",
    "!gunzip ~/bioinfo1/project/binfo1-datapack1/GRCm39.primary_assembly.genome.fa.gz"
   ]
  },
  {
   "cell_type": "code",
   "execution_count": 11,
   "metadata": {},
   "outputs": [
    {
     "name": "stdout",
     "output_type": "stream",
     "text": [
      "sending incremental file list\n",
      "GRCm39.primary_assembly.genome.fa\n",
      "\n",
      "sent 830,138,257 bytes  received 35 bytes  40,494,550.83 bytes/sec\n",
      "total size is 2,773,693,944  speedup is 3.34\n"
     ]
    }
   ],
   "source": [
    "!rsync -avz ~/bioinfo1/project/binfo1-datapack1/GRCm39.primary_assembly.genome.fa ./"
   ]
  },
  {
   "cell_type": "code",
   "execution_count": 20,
   "metadata": {},
   "outputs": [],
   "source": [
    "!awk -F'\\t' -v OFS='\\t' '{print $1, $2-15, $3+15,  $1 \"_\" $2 \"_\" $3, \".\", \"+\"}' motif/CLIP-35L33G-ge50-plus.entropy.BedGraph >> motif/CLIP-35L33G-mut-neighbor15.bed\n",
    "!awk -F'\\t' -v OFS='\\t' '{print $1, $2-15, $3+15,  $1 \"_\" $2 \"_\" $3, \".\", \"-\"}' motif/CLIP-35L33G-ge50-minus.entropy.BedGraph >> motif/CLIP-35L33G-mut-neighbor15.bed"
   ]
  },
  {
   "cell_type": "code",
   "execution_count": 22,
   "metadata": {},
   "outputs": [],
   "source": [
    "!bedtools getfasta -fi GRCm39.primary_assembly.genome.fa -bed motif/CLIP-35L33G-mut-neighbor15.bed -s -bedOut > motif/CLIP-35L33G-mut-neighbor15-seq.bed"
   ]
  },
  {
   "cell_type": "code",
   "execution_count": null,
   "metadata": {},
   "outputs": [],
   "source": []
  }
 ],
 "metadata": {
  "kernelspec": {
   "display_name": "project1",
   "language": "python",
   "name": "python3"
  },
  "language_info": {
   "codemirror_mode": {
    "name": "ipython",
    "version": 3
   },
   "file_extension": ".py",
   "mimetype": "text/x-python",
   "name": "python",
   "nbconvert_exporter": "python",
   "pygments_lexer": "ipython3",
   "version": "3.10.8"
  }
 },
 "nbformat": 4,
 "nbformat_minor": 2
}
