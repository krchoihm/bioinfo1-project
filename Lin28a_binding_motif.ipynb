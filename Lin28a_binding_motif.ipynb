{
 "cells": [
  {
   "cell_type": "code",
   "execution_count": 1,
   "metadata": {},
   "outputs": [
    {
     "name": "stdout",
     "output_type": "stream",
     "text": [
      "/rna/hyemin/bioinfo1/project/binfo1-work\n"
     ]
    }
   ],
   "source": [
    "%cd ~/bioinfo1/project/binfo1-work/"
   ]
  },
  {
   "cell_type": "markdown",
   "metadata": {},
   "source": [
    "##### Base positions with cut-offs of 0.8 for crosslinking-induced reverse-transcription error score (CRES) and 50 for read depth."
   ]
  },
  {
   "cell_type": "code",
   "execution_count": 8,
   "metadata": {},
   "outputs": [
    {
     "name": "stdout",
     "output_type": "stream",
     "text": [
      "[mpileup] 1 samples in 1 input files\n",
      "959691175 CLIP-35L33G.pileup\n"
     ]
    }
   ],
   "source": [
    "!samtools mpileup --ff 3844 CLIP-35L33G.bam > CLIP-35L33G.pileup\n",
    "!wc -l CLIP-35L33G.pileup # filter out QC failed, unmapped, secondary, supplementary, and duplicate reads"
   ]
  },
  {
   "cell_type": "code",
   "execution_count": 2,
   "metadata": {},
   "outputs": [],
   "source": [
    "!awk '$4 >= 50 {print $0}' CLIP-35L33G.pileup > CLIP-35L33G-ge50.pileup"
   ]
  },
  {
   "cell_type": "code",
   "execution_count": 3,
   "metadata": {},
   "outputs": [],
   "source": [
    "import numpy as np\n",
    "import pandas as pd\n",
    "import matplotlib.pyplot as plt\n",
    "import re"
   ]
  },
  {
   "cell_type": "code",
   "execution_count": 4,
   "metadata": {},
   "outputs": [
    {
     "data": {
      "text/html": [
       "<div>\n",
       "<style scoped>\n",
       "    .dataframe tbody tr th:only-of-type {\n",
       "        vertical-align: middle;\n",
       "    }\n",
       "\n",
       "    .dataframe tbody tr th {\n",
       "        vertical-align: top;\n",
       "    }\n",
       "\n",
       "    .dataframe thead th {\n",
       "        text-align: right;\n",
       "    }\n",
       "</style>\n",
       "<table border=\"1\" class=\"dataframe\">\n",
       "  <thead>\n",
       "    <tr style=\"text-align: right;\">\n",
       "      <th></th>\n",
       "      <th>chrom</th>\n",
       "      <th>pos</th>\n",
       "      <th>_ref</th>\n",
       "      <th>count</th>\n",
       "      <th>basereads</th>\n",
       "      <th>quals</th>\n",
       "    </tr>\n",
       "  </thead>\n",
       "  <tbody>\n",
       "    <tr>\n",
       "      <th>25209663</th>\n",
       "      <td>MU069435.1</td>\n",
       "      <td>1564</td>\n",
       "      <td>N</td>\n",
       "      <td>305</td>\n",
       "      <td>&gt;&gt;&gt;&gt;TTTTTTTTTTTTTTTTTTTTTTTTTTTTTTTTTTTTTTTTTT...</td>\n",
       "      <td>DIDHGHIIGIGIEDIGIHIIG?FBGG@E=:A7G8@HHIHIIDDBII...</td>\n",
       "    </tr>\n",
       "    <tr>\n",
       "      <th>25209664</th>\n",
       "      <td>MU069435.1</td>\n",
       "      <td>1565</td>\n",
       "      <td>N</td>\n",
       "      <td>297</td>\n",
       "      <td>&gt;&gt;&gt;&gt;AAAAAAAAAAAA$AA$AA$A$AA$AA$A$AAAAAAAAAAAAA...</td>\n",
       "      <td>DIDHBHHIIIGICGIGIEIHDEFBGE8C=1?1G88IHIHIIDGBHI...</td>\n",
       "    </tr>\n",
       "    <tr>\n",
       "      <th>25209665</th>\n",
       "      <td>MU069435.1</td>\n",
       "      <td>1566</td>\n",
       "      <td>N</td>\n",
       "      <td>289</td>\n",
       "      <td>&gt;&gt;&gt;&gt;CCCCCCCCCCCCCCCCCCCCCCCCCCCCCCCCCCCCCCCCCC...</td>\n",
       "      <td>DIDHG&gt;IIHIHHCEIIIEB5D@;=H5BIHIHHI&lt;DAIIBDIIFIIH...</td>\n",
       "    </tr>\n",
       "    <tr>\n",
       "      <th>25209666</th>\n",
       "      <td>MU069435.1</td>\n",
       "      <td>1567</td>\n",
       "      <td>N</td>\n",
       "      <td>291</td>\n",
       "      <td>&gt;&gt;&gt;&gt;T$T$T$T$T$T$T$T$T$T$T$T$T$T$T$TTTTTTTTTT$T...</td>\n",
       "      <td>DIDHFHGIIIIIDDIII?B=G::B=G=DIHIHIID@BIIGGIIHIH...</td>\n",
       "    </tr>\n",
       "    <tr>\n",
       "      <th>25209667</th>\n",
       "      <td>MU069435.1</td>\n",
       "      <td>1568</td>\n",
       "      <td>N</td>\n",
       "      <td>88</td>\n",
       "      <td>&gt;&gt;&gt;&gt;T$T$T$T$T$T$T$T$T$T$TT$T$TT$T$T$T$T$T$T$T$...</td>\n",
       "      <td>DIDHAG4BDBHBEIGHIHHHIIHIDIIIIIHIGIHIIEIHIHDHIG...</td>\n",
       "    </tr>\n",
       "  </tbody>\n",
       "</table>\n",
       "</div>"
      ],
      "text/plain": [
       "               chrom   pos _ref  count  \\\n",
       "25209663  MU069435.1  1564    N    305   \n",
       "25209664  MU069435.1  1565    N    297   \n",
       "25209665  MU069435.1  1566    N    289   \n",
       "25209666  MU069435.1  1567    N    291   \n",
       "25209667  MU069435.1  1568    N     88   \n",
       "\n",
       "                                                  basereads  \\\n",
       "25209663  >>>>TTTTTTTTTTTTTTTTTTTTTTTTTTTTTTTTTTTTTTTTTT...   \n",
       "25209664  >>>>AAAAAAAAAAAA$AA$AA$A$AA$AA$A$AAAAAAAAAAAAA...   \n",
       "25209665  >>>>CCCCCCCCCCCCCCCCCCCCCCCCCCCCCCCCCCCCCCCCCC...   \n",
       "25209666  >>>>T$T$T$T$T$T$T$T$T$T$T$T$T$T$T$TTTTTTTTTT$T...   \n",
       "25209667  >>>>T$T$T$T$T$T$T$T$T$T$TT$T$TT$T$T$T$T$T$T$T$...   \n",
       "\n",
       "                                                      quals  \n",
       "25209663  DIDHGHIIGIGIEDIGIHIIG?FBGG@E=:A7G8@HHIHIIDDBII...  \n",
       "25209664  DIDHBHHIIIGICGIGIEIHDEFBGE8C=1?1G88IHIHIIDGBHI...  \n",
       "25209665  DIDHG>IIHIHHCEIIIEB5D@;=H5BIHIHHI<DAIIBDIIFIIH...  \n",
       "25209666  DIDHFHGIIIIIDDIII?B=G::B=G=DIHIHIID@BIIGGIIHIH...  \n",
       "25209667  DIDHAG4BDBHBEIGHIHHHIIHIDIIIIIHIGIHIIEIHIHDHIG...  "
      ]
     },
     "execution_count": 4,
     "metadata": {},
     "output_type": "execute_result"
    }
   ],
   "source": [
    "dfPileup = pd.read_csv('CLIP-35L33G-ge50.pileup', sep='\\t', names=['chrom', 'pos', '_ref', 'count', 'basereads', 'quals'])\n",
    "dfPileup.tail()"
   ]
  },
  {
   "cell_type": "code",
   "execution_count": 6,
   "metadata": {},
   "outputs": [
    {
     "data": {
      "text/html": [
       "<div>\n",
       "<style scoped>\n",
       "    .dataframe tbody tr th:only-of-type {\n",
       "        vertical-align: middle;\n",
       "    }\n",
       "\n",
       "    .dataframe tbody tr th {\n",
       "        vertical-align: top;\n",
       "    }\n",
       "\n",
       "    .dataframe thead th {\n",
       "        text-align: right;\n",
       "    }\n",
       "</style>\n",
       "<table border=\"1\" class=\"dataframe\">\n",
       "  <thead>\n",
       "    <tr style=\"text-align: right;\">\n",
       "      <th></th>\n",
       "      <th>chrom</th>\n",
       "      <th>pos</th>\n",
       "      <th>_ref</th>\n",
       "      <th>count</th>\n",
       "      <th>basereads</th>\n",
       "      <th>quals</th>\n",
       "      <th>matchesNdel</th>\n",
       "      <th>AGCTD</th>\n",
       "      <th>entropy</th>\n",
       "    </tr>\n",
       "  </thead>\n",
       "  <tbody>\n",
       "    <tr>\n",
       "      <th>4</th>\n",
       "      <td>chr1</td>\n",
       "      <td>3222726</td>\n",
       "      <td>N</td>\n",
       "      <td>156</td>\n",
       "      <td>GGGAAAAGGAAAGGGGGAAAAGAGGGAGCAAGGAGGGGAGGAGGAG...</td>\n",
       "      <td>HB:IHGIIGGIGDFHII@IFBHGHGBHGCBI@IIHGBIGI;&gt;E@BI...</td>\n",
       "      <td>GGGAAAAGGAAAGGGGGAAAAGAGGGAGCAAGGAGGGGAGGAGGAG...</td>\n",
       "      <td>[55, 81, 20, 0, 0]</td>\n",
       "      <td>1.401164</td>\n",
       "    </tr>\n",
       "    <tr>\n",
       "      <th>46</th>\n",
       "      <td>chr1</td>\n",
       "      <td>3224576</td>\n",
       "      <td>N</td>\n",
       "      <td>168</td>\n",
       "      <td>CCCG*GGGG*GGGGC*GGGGGGGGGG**GGGGGCTCTGCCCCCCCG...</td>\n",
       "      <td>BGI?H?G8HIEGHIIIBIHFIE9GIIG?=E?:HHGBA8GCB??0GH...</td>\n",
       "      <td>CCCG*GGGG*GGGGC*GGGGGGGGGG**GGGGGCTCTGCCCCCCCG...</td>\n",
       "      <td>[0, 93, 53, 12, 10]</td>\n",
       "      <td>1.511601</td>\n",
       "    </tr>\n",
       "    <tr>\n",
       "      <th>136</th>\n",
       "      <td>chr1</td>\n",
       "      <td>3872651</td>\n",
       "      <td>N</td>\n",
       "      <td>50</td>\n",
       "      <td>ccccccccc*cccgcgc*cccccccccc*ccccc*gc*g*c-1n**...</td>\n",
       "      <td>EGIIEIHIFGGGIGBGGHGIIIIG@HHIHII&lt;EGHEHIGH9HHHDG...</td>\n",
       "      <td>ccccccccc*cccgcgc*cccccccccc*ccccc*gc*g*c-1n**...</td>\n",
       "      <td>[0, 4, 33, 0, 13]</td>\n",
       "      <td>1.192442</td>\n",
       "    </tr>\n",
       "    <tr>\n",
       "      <th>175</th>\n",
       "      <td>chr1</td>\n",
       "      <td>4329961</td>\n",
       "      <td>N</td>\n",
       "      <td>55</td>\n",
       "      <td>&lt;&lt;cccccccccccccccccccccccccctcctccct*tttttt*tt...</td>\n",
       "      <td>8IDGDH6HHGIGD&lt;EHGBIGGDHBIIG&gt;HH8HEIIIHGIFHIGHGH...</td>\n",
       "      <td>cccccccccccccccccccccccccctcctccct*tttttt*ttcc...</td>\n",
       "      <td>[0, 0, 40, 11, 2]</td>\n",
       "      <td>0.955640</td>\n",
       "    </tr>\n",
       "    <tr>\n",
       "      <th>176</th>\n",
       "      <td>chr1</td>\n",
       "      <td>4329962</td>\n",
       "      <td>N</td>\n",
       "      <td>55</td>\n",
       "      <td>&lt;&lt;ccccccccccccc$tttc$c$c$ttttc$ttcggcgggcccccc...</td>\n",
       "      <td>8IDGDG=HH@IGBBEHGIIHEEHGFIGDIH?HDHIIHGGIHIHHGG...</td>\n",
       "      <td>ccccccccccccctttcccttttcttcggcgggccccccccccctt...</td>\n",
       "      <td>[0, 5, 31, 17, 0]</td>\n",
       "      <td>1.300060</td>\n",
       "    </tr>\n",
       "  </tbody>\n",
       "</table>\n",
       "</div>"
      ],
      "text/plain": [
       "    chrom      pos _ref  count  \\\n",
       "4    chr1  3222726    N    156   \n",
       "46   chr1  3224576    N    168   \n",
       "136  chr1  3872651    N     50   \n",
       "175  chr1  4329961    N     55   \n",
       "176  chr1  4329962    N     55   \n",
       "\n",
       "                                             basereads  \\\n",
       "4    GGGAAAAGGAAAGGGGGAAAAGAGGGAGCAAGGAGGGGAGGAGGAG...   \n",
       "46   CCCG*GGGG*GGGGC*GGGGGGGGGG**GGGGGCTCTGCCCCCCCG...   \n",
       "136  ccccccccc*cccgcgc*cccccccccc*ccccc*gc*g*c-1n**...   \n",
       "175  <<cccccccccccccccccccccccccctcctccct*tttttt*tt...   \n",
       "176  <<ccccccccccccc$tttc$c$c$ttttc$ttcggcgggcccccc...   \n",
       "\n",
       "                                                 quals  \\\n",
       "4    HB:IHGIIGGIGDFHII@IFBHGHGBHGCBI@IIHGBIGI;>E@BI...   \n",
       "46   BGI?H?G8HIEGHIIIBIHFIE9GIIG?=E?:HHGBA8GCB??0GH...   \n",
       "136  EGIIEIHIFGGGIGBGGHGIIIIG@HHIHII<EGHEHIGH9HHHDG...   \n",
       "175  8IDGDH6HHGIGD<EHGBIGGDHBIIG>HH8HEIIIHGIFHIGHGH...   \n",
       "176  8IDGDG=HH@IGBBEHGIIHEEHGFIGDIH?HDHIIHGGIHIHHGG...   \n",
       "\n",
       "                                           matchesNdel                AGCTD  \\\n",
       "4    GGGAAAAGGAAAGGGGGAAAAGAGGGAGCAAGGAGGGGAGGAGGAG...   [55, 81, 20, 0, 0]   \n",
       "46   CCCG*GGGG*GGGGC*GGGGGGGGGG**GGGGGCTCTGCCCCCCCG...  [0, 93, 53, 12, 10]   \n",
       "136  ccccccccc*cccgcgc*cccccccccc*ccccc*gc*g*c-1n**...    [0, 4, 33, 0, 13]   \n",
       "175  cccccccccccccccccccccccccctcctccct*tttttt*ttcc...    [0, 0, 40, 11, 2]   \n",
       "176  ccccccccccccctttcccttttcttcggcgggccccccccccctt...    [0, 5, 31, 17, 0]   \n",
       "\n",
       "      entropy  \n",
       "4    1.401164  \n",
       "46   1.511601  \n",
       "136  1.192442  \n",
       "175  0.955640  \n",
       "176  1.300060  "
      ]
     },
     "execution_count": 6,
     "metadata": {},
     "output_type": "execute_result"
    }
   ],
   "source": [
    "toremove = re.compile('[<>$]|\\^.') # [문자들] : 문자들 중 하나와 매치\n",
    "dfPileup['matchesNdel'] = dfPileup['basereads'].apply(lambda x: toremove.sub('', x)) # remove special characters (<>$^.) from basereads\n",
    "dfPileup['AGCTD'] = dfPileup['matchesNdel'].apply(lambda x: np.array((x.count('A') + x.count('a'), \\\n",
    "                                                                      x.count('G') + x.count('g'), \\\n",
    "                                                                      x.count('C') + x.count('c'), \\\n",
    "                                                                      x.count('T') + x.count('t'), \\\n",
    "                                                                      x.count('*') + x.count('#'))))\n",
    "dfPileup['entropy'] = dfPileup['AGCTD'].apply(lambda x: -sum([i*np.log2(i) for i in x/sum(x) if i > 0]))\n",
    "dfPileup['entropy'] = dfPileup['entropy'].replace(-0.0, 0.0)\n",
    "dfPileup[dfPileup['entropy'] >= 0.8].head()"
   ]
  },
  {
   "cell_type": "code",
   "execution_count": 8,
   "metadata": {},
   "outputs": [],
   "source": [
    "dfPileup[dfPileup['entropy'] >= 0.8].to_csv('CLIP-35L33G-ge50-entropy.mpileup', sep='\\t', index=False, header=False)"
   ]
  },
  {
   "cell_type": "markdown",
   "metadata": {},
   "source": [
    "##### Neighboring sequences of the high-mutated bases in reference genome (mm39)."
   ]
  },
  {
   "cell_type": "code",
   "execution_count": 10,
   "metadata": {},
   "outputs": [
    {
     "name": "stdout",
     "output_type": "stream",
     "text": [
      "--2024-05-24 23:48:06--  https://ftp.ebi.ac.uk/pub/databases/gencode/Gencode_mouse/release_M35/GRCm39.primary_assembly.genome.fa.gz\n",
      "Resolving ftp.ebi.ac.uk (ftp.ebi.ac.uk)... 193.62.193.165\n",
      "Connecting to ftp.ebi.ac.uk (ftp.ebi.ac.uk)|193.62.193.165|:443... connected.\n",
      "HTTP request sent, awaiting response... 200 OK\n",
      "Length: 773873008 (738M) [application/x-gzip]\n",
      "Saving to: ‘/rna/hyemin/bioinfo1/project/binfo1-datapack1/GRCm39.primary_assembly.genome.fa.gz’\n",
      "\n",
      "GRCm39.primary_asse 100%[===================>] 738.02M   194KB/s    in 60m 44s \n",
      "\n",
      "2024-05-25 00:48:51 (207 KB/s) - ‘/rna/hyemin/bioinfo1/project/binfo1-datapack1/GRCm39.primary_assembly.genome.fa.gz’ saved [773873008/773873008]\n",
      "\n"
     ]
    }
   ],
   "source": [
    "!wget -P ~/bioinfo1/project/binfo1-datapack1 https://ftp.ebi.ac.uk/pub/databases/gencode/Gencode_mouse/release_M35/GRCm39.primary_assembly.genome.fa.gz\n",
    "!gunzip ~/bioinfo1/project/binfo1-datapack1/GRCm39.primary_assembly.genome.fa.gz"
   ]
  },
  {
   "cell_type": "code",
   "execution_count": 11,
   "metadata": {},
   "outputs": [
    {
     "name": "stdout",
     "output_type": "stream",
     "text": [
      "sending incremental file list\n",
      "GRCm39.primary_assembly.genome.fa\n",
      "\n",
      "sent 830,138,257 bytes  received 35 bytes  40,494,550.83 bytes/sec\n",
      "total size is 2,773,693,944  speedup is 3.34\n"
     ]
    }
   ],
   "source": [
    "!rsync -avz ~/bioinfo1/project/binfo1-datapack1/GRCm39.primary_assembly.genome.fa ./"
   ]
  },
  {
   "cell_type": "code",
   "execution_count": 12,
   "metadata": {},
   "outputs": [],
   "source": [
    "dfPileupFiltered = pd.read_csv('CLIP-35L33G-ge50-entropy.mpileup', sep='\\t', names=['chrom', 'pos', '_ref', 'count', 'basereads', 'quals', 'matchesNdel', 'AGCTD', 'entropy'])"
   ]
  },
  {
   "cell_type": "code",
   "execution_count": 13,
   "metadata": {},
   "outputs": [],
   "source": [
    "dfNeighborBed15 = dfPileupFiltered[['chrom', 'pos']].copy()\n",
    "dfNeighborBed15['start'] = dfNeighborBed15['pos'] - 1\n",
    "dfNeighborBed15['neiStart'] = dfNeighborBed15['start'] - 15\n",
    "dfNeighborBed15['neiEnd'] = dfNeighborBed15['start'] + 15\n",
    "dfNeighborBed15[['chrom', 'neiStart', 'neiEnd']].to_csv('CLIP-35L33G-ge50-entropy-neighbor15.bed', sep='\\t', index=False, header=False)"
   ]
  },
  {
   "cell_type": "code",
   "execution_count": 15,
   "metadata": {},
   "outputs": [],
   "source": [
    "!bedtools getfasta -fi GRCm39.primary_assembly.genome.fa -bed CLIP-35L33G-ge50-entropy-neighbor15.bed -bedOut > CLIP-35L33G-ge50-entropy-neighbor15-seq.bed"
   ]
  },
  {
   "cell_type": "code",
   "execution_count": null,
   "metadata": {},
   "outputs": [],
   "source": []
  }
 ],
 "metadata": {
  "kernelspec": {
   "display_name": "project1",
   "language": "python",
   "name": "python3"
  },
  "language_info": {
   "codemirror_mode": {
    "name": "ipython",
    "version": 3
   },
   "file_extension": ".py",
   "mimetype": "text/x-python",
   "name": "python",
   "nbconvert_exporter": "python",
   "pygments_lexer": "ipython3",
   "version": "3.10.8"
  }
 },
 "nbformat": 4,
 "nbformat_minor": 2
}
